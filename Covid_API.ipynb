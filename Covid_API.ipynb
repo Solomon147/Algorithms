{
  "nbformat": 4,
  "nbformat_minor": 0,
  "metadata": {
    "colab": {
      "name": "Covid_API.ipynb",
      "provenance": [],
      "include_colab_link": true
    },
    "kernelspec": {
      "name": "python3",
      "display_name": "Python 3"
    }
  },
  "cells": [
    {
      "cell_type": "markdown",
      "metadata": {
        "id": "view-in-github",
        "colab_type": "text"
      },
      "source": [
        "<a href=\"https://colab.research.google.com/github/Solomon147/Algorithms/blob/master/Covid_API.ipynb\" target=\"_parent\"><img src=\"https://colab.research.google.com/assets/colab-badge.svg\" alt=\"Open In Colab\"/></a>"
      ]
    },
    {
      "cell_type": "code",
      "metadata": {
        "id": "cbLkOu2m7SoG",
        "colab": {
          "base_uri": "https://localhost:8080/"
        },
        "outputId": "7cd3b943-ef4f-4fad-cf2c-d34fc0f25ba5"
      },
      "source": [
        "!pip install sodapy"
      ],
      "execution_count": null,
      "outputs": [
        {
          "output_type": "stream",
          "text": [
            "Collecting sodapy\n",
            "  Downloading https://files.pythonhosted.org/packages/9e/74/95fb7d45bbe7f1de43caac45d7dd4807ef1e15881564a00eef489a3bb5c6/sodapy-2.1.0-py2.py3-none-any.whl\n",
            "Requirement already satisfied: requests>=2.20.0 in /usr/local/lib/python3.6/dist-packages (from sodapy) (2.23.0)\n",
            "Requirement already satisfied: idna<3,>=2.5 in /usr/local/lib/python3.6/dist-packages (from requests>=2.20.0->sodapy) (2.10)\n",
            "Requirement already satisfied: chardet<4,>=3.0.2 in /usr/local/lib/python3.6/dist-packages (from requests>=2.20.0->sodapy) (3.0.4)\n",
            "Requirement already satisfied: urllib3!=1.25.0,!=1.25.1,<1.26,>=1.21.1 in /usr/local/lib/python3.6/dist-packages (from requests>=2.20.0->sodapy) (1.24.3)\n",
            "Requirement already satisfied: certifi>=2017.4.17 in /usr/local/lib/python3.6/dist-packages (from requests>=2.20.0->sodapy) (2020.6.20)\n",
            "Installing collected packages: sodapy\n",
            "Successfully installed sodapy-2.1.0\n"
          ],
          "name": "stdout"
        }
      ]
    },
    {
      "cell_type": "code",
      "metadata": {
        "id": "yBCTrXjh7YMq"
      },
      "source": [
        "MY_APP_TOKEN = 'pAr7qPhDDYyTBoWrDrNpxhbCS'"
      ],
      "execution_count": null,
      "outputs": []
    },
    {
      "cell_type": "code",
      "metadata": {
        "id": "XyUkr0gk-GLn"
      },
      "source": [
        "import pandas as pd\n",
        "import datetime\n",
        "from sodapy import Socrata\n",
        "from datetime import timedelta\n",
        "\n",
        "# Example authenticated client (needed for non-public datasets):\n",
        "client = Socrata('data.cdc.gov',MY_APP_TOKEN)\n",
        "\n",
        "# Query to get the latest 1000 state submissions\n",
        "q = '''\n",
        "    SELECT * \n",
        "    ORDER BY submission_date DESC\n",
        "    LIMIT 1000\n",
        "    '''\n",
        "\n",
        "# returns as JSON from API / converted to Python list of\n",
        "# dictionaries by sodapy.\n",
        "results = client.get(\"9mfq-cb36\", query = q)\n",
        "\n",
        "# Convert to pandas DataFrame\n",
        "df = pd.DataFrame.from_records(results)"
      ],
      "execution_count": null,
      "outputs": []
    },
    {
      "cell_type": "code",
      "metadata": {
        "id": "R-aMtyA6-16q",
        "colab": {
          "base_uri": "https://localhost:8080/"
        },
        "outputId": "843db2b9-f22d-4355-a639-73ec58b6cf68"
      },
      "source": [
        "# select a state and get info from within the last 7 seven days\n",
        "state = 'NJ'\n",
        "last_week = str(datetime.date.today() - timedelta(days = 7))\n",
        "\n",
        "# filter df for above info and get the total\n",
        "nj= df[(df['state'] == state) & (df['submission_date'] > last_week)]\n",
        "nj_new_cases= nj['new_case'].astype('float').sum()\n",
        "\n",
        "print(f'Total number of new cases in NJ within the last seven days is {nj_new_cases}')"
      ],
      "execution_count": null,
      "outputs": [
        {
          "output_type": "stream",
          "text": [
            "Total number of new cases in NJ within the last seven days is 9945.0\n"
          ],
          "name": "stdout"
        }
      ]
    }
  ]
}